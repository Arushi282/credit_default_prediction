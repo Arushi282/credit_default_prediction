{
 "cells": [
  {
   "cell_type": "markdown",
   "id": "766642a0-60e3-457f-a72a-d369de377a2c",
   "metadata": {},
   "source": [
    "# Exploratory Data Analysis for the Taiwan Default Credit data set "
   ]
  },
  {
   "cell_type": "markdown",
   "id": "165c40aa-687b-4967-83de-dd16559f6ab7",
   "metadata": {},
   "source": [
    "## Imports "
   ]
  },
  {
   "cell_type": "code",
   "execution_count": 24,
   "id": "c79ad1ee-bd31-48e6-9911-3ac283324494",
   "metadata": {},
   "outputs": [],
   "source": [
    "import numpy as np\n",
    "import pandas as pd\n",
    "from sklearn.model_selection import train_test_split"
   ]
  },
  {
   "cell_type": "markdown",
   "id": "c25969f0-05bb-4d46-9257-54bf1bc8ed95",
   "metadata": {},
   "source": [
    "## Reading the data "
   ]
  },
  {
   "cell_type": "code",
   "execution_count": 25,
   "id": "f49064da-4f55-4c50-82c6-902328836570",
   "metadata": {},
   "outputs": [],
   "source": [
    "default_credit_df = pd.read_csv('../data/raw/credit_card_default.csv')"
   ]
  },
  {
   "cell_type": "markdown",
   "id": "ba1c838f-75bd-4d48-ab17-6e3ae8c16364",
   "metadata": {},
   "source": [
    "-----"
   ]
  },
  {
   "cell_type": "markdown",
   "id": "06916fea-8a59-48a6-9284-9e520ea9c37f",
   "metadata": {},
   "source": [
    "## Summary of the data set"
   ]
  },
  {
   "cell_type": "markdown",
   "id": "fbc8bb3c-89ca-4b49-9391-18a2762075ce",
   "metadata": {},
   "source": []
  },
  {
   "cell_type": "markdown",
   "id": "c77a4a47-0e27-4d77-a29c-e5e70a72a22f",
   "metadata": {},
   "source": [
    "## Partition the data set into training and test sets"
   ]
  },
  {
   "cell_type": "markdown",
   "id": "7d753fbc-b7b4-4eef-a102-716468dd554c",
   "metadata": {},
   "source": [
    "Before proceeding further, we will split our data set into train and test set. $20$ % of the observations will be included in the test data and $80$ % in the train data set. Overall `default_of_credit_card_clients` has $30,000$ observations, thus the test set should have enough examples to provide good affirmation for the model: more precisely, the train set will have $24000$ observations, and test set $6000$.\n",
    "\n",
    "Also, throughout the data analysis `random_state=123` will be used to make sure the results are consistent. "
   ]
  },
  {
   "cell_type": "code",
   "execution_count": 42,
   "id": "fa0bc7df-7fbc-4227-96b2-da39ec7f9a17",
   "metadata": {},
   "outputs": [],
   "source": [
    "# splitting the dataset into train and test sets\n",
    "\n",
    "train_df, test_df = train_test_split(default_credit_df, test_size=0.2, random_state=123)"
   ]
  },
  {
   "cell_type": "code",
   "execution_count": 46,
   "id": "e2c2faa3-1608-4b56-9e8d-d7adab4cbc99",
   "metadata": {},
   "outputs": [
    {
     "name": "stdout",
     "output_type": "stream",
     "text": [
      "The number of observations for train set:  24000\n",
      "The number of observations for test set:  6000\n"
     ]
    }
   ],
   "source": [
    "# printing the number of observations for train and test sets\n",
    "\n",
    "print('The number of observations for train set: ', train_df['default.payment.next.month'].shape[0])\n",
    "print('The number of observations for test set: ', test_df['default.payment.next.month'].shape[0])"
   ]
  },
  {
   "cell_type": "code",
   "execution_count": null,
   "id": "b6987ecf-9ff3-4056-8337-226a43cc8bc9",
   "metadata": {},
   "outputs": [],
   "source": [
    "result_dict = {}"
   ]
  },
  {
   "cell_type": "code",
   "execution_count": 50,
   "id": "5a8b707b-aa17-495e-8f07-8ecc15d84433",
   "metadata": {},
   "outputs": [],
   "source": [
    "# percentage of zeros and ones in default column train set\n",
    "train_percent_defaults = train_df['default.payment.next.month'].value_counts(normalize=True) * 100\n",
    "\n",
    "# percentage of zeros and ones in default column test set\n",
    "test_percent_defaults = test_df['default.payment.next.month'].value_counts(normalize=True)\n",
    "\n",
    "# count of observations were default is one or zero in train set \n",
    "train_yes_default = len(train_df[train_df['default.payment.next.month'] == 1])\n",
    "train_no_default = len(train_df[train_df['default.payment.next.month'] == 0])\n",
    "\n",
    "# count of observations were default is one or zero in test set \n",
    "test_yes_default = len(test_df[test_df['default.payment.next.month'] == 1])\n",
    "test_no_default = len(test_df[test_df['default.payment.next.month'] == 0])"
   ]
  },
  {
   "cell_type": "code",
   "execution_count": 55,
   "id": "1eb43771-bf27-43e0-b6fc-4671de6385f6",
   "metadata": {},
   "outputs": [
    {
     "data": {
      "text/html": [
       "<div>\n",
       "<style scoped>\n",
       "    .dataframe tbody tr th:only-of-type {\n",
       "        vertical-align: middle;\n",
       "    }\n",
       "\n",
       "    .dataframe tbody tr th {\n",
       "        vertical-align: top;\n",
       "    }\n",
       "\n",
       "    .dataframe thead th {\n",
       "        text-align: right;\n",
       "    }\n",
       "</style>\n",
       "<table border=\"1\" class=\"dataframe\">\n",
       "  <thead>\n",
       "    <tr style=\"text-align: right;\">\n",
       "      <th></th>\n",
       "      <th>Default Payment Count Percent</th>\n",
       "    </tr>\n",
       "  </thead>\n",
       "  <tbody>\n",
       "    <tr>\n",
       "      <th>No</th>\n",
       "      <td>77.783333</td>\n",
       "    </tr>\n",
       "    <tr>\n",
       "      <th>Yes</th>\n",
       "      <td>22.216667</td>\n",
       "    </tr>\n",
       "  </tbody>\n",
       "</table>\n",
       "</div>"
      ],
      "text/plain": [
       "     Default Payment Count Percent\n",
       "No                       77.783333\n",
       "Yes                      22.216667"
      ]
     },
     "execution_count": 55,
     "metadata": {},
     "output_type": "execute_result"
    }
   ],
   "source": [
    "train_percent_df = pd.DataFrame(train_percent_defaults)\n",
    "train_percent_df.index.name = ''\n",
    "train_percent_df.rename(columns = \n",
    "                        {'default.payment.next.month': 'Default Payment Percent'}, \n",
    "                        index = {0: 'No', 1: 'Yes'})"
   ]
  },
  {
   "cell_type": "markdown",
   "id": "5c09b9fa-4fda-4af2-95ed-e33e848d2f41",
   "metadata": {},
   "source": [
    "## Exploratory analysis on the training data set"
   ]
  }
 ],
 "metadata": {
  "kernelspec": {
   "display_name": "Python [conda env:573]",
   "language": "python",
   "name": "conda-env-573-py"
  },
  "language_info": {
   "codemirror_mode": {
    "name": "ipython",
    "version": 3
   },
   "file_extension": ".py",
   "mimetype": "text/x-python",
   "name": "python",
   "nbconvert_exporter": "python",
   "pygments_lexer": "ipython3",
   "version": "3.9.7"
  }
 },
 "nbformat": 4,
 "nbformat_minor": 5
}
