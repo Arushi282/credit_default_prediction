{
 "cells": [
  {
   "cell_type": "markdown",
   "id": "766642a0-60e3-457f-a72a-d369de377a2c",
   "metadata": {},
   "source": [
    "# Exploratory Data Analysis for the Taiwan Default Credit data set "
   ]
  },
  {
   "cell_type": "markdown",
   "id": "165c40aa-687b-4967-83de-dd16559f6ab7",
   "metadata": {},
   "source": [
    "## Imports "
   ]
  },
  {
   "cell_type": "code",
   "execution_count": 1,
   "id": "c79ad1ee-bd31-48e6-9911-3ac283324494",
   "metadata": {},
   "outputs": [],
   "source": [
    "import numpy as np\n",
    "import pandas as pd\n",
    "from sklearn.model_selection import train_test_split"
   ]
  },
  {
   "cell_type": "markdown",
   "id": "c25969f0-05bb-4d46-9257-54bf1bc8ed95",
   "metadata": {},
   "source": [
    "## Reading the data "
   ]
  },
  {
   "cell_type": "code",
   "execution_count": 2,
   "id": "f49064da-4f55-4c50-82c6-902328836570",
   "metadata": {},
   "outputs": [],
   "source": [
    "default_credit_df = pd.read_csv('../data/raw/default_credit_card_clients.csv')\n",
    "\n",
    "default_credit_df = default_credit_df.set_index('ID').rename(\n",
    "    columns = {'default payment next month': 'default_payment_next_month'})"
   ]
  },
  {
   "cell_type": "markdown",
   "id": "ba1c838f-75bd-4d48-ab17-6e3ae8c16364",
   "metadata": {},
   "source": [
    "-----"
   ]
  },
  {
   "cell_type": "markdown",
   "id": "06916fea-8a59-48a6-9284-9e520ea9c37f",
   "metadata": {},
   "source": [
    "## Summary of the data set"
   ]
  },
  {
   "cell_type": "markdown",
   "id": "fbc8bb3c-89ca-4b49-9391-18a2762075ce",
   "metadata": {},
   "source": [
    "This project aims to build a classification model using a machine learning algorithm to predict potential credit default accounts of Taiwan's credit card clients'. The data set is a Taiwan credit card data from April to September, 2005 sourced from the UCI machine learning repository and can be found [here](https://archive-beta.ics.uci.edu/ml/datasets/default+of+credit+card+clients). The data set consists of 23 features column and one target column. \n",
    "\n",
    "There are 30,000 observations in the data set and 23 features. There are no observations with missing values in the data set. Below we show the number of each observations for each of the classes in the data set.\n",
    "\n",
    "|Default Payment next month = 0|Default Payment next month = 1|\n",
    "|------|------|\n",
    "|23364|6636|\n",
    "\n",
    "Table 1. Counts of observation for each class in the target column."
   ]
  },
  {
   "cell_type": "code",
   "execution_count": 8,
   "id": "30a662f5",
   "metadata": {},
   "outputs": [
    {
     "data": {
      "text/plain": [
       "0    23364\n",
       "1     6636\n",
       "Name: default_payment_next_month, dtype: int64"
      ]
     },
     "execution_count": 8,
     "metadata": {},
     "output_type": "execute_result"
    }
   ],
   "source": [
    "# class count \n",
    "default_credit_df['default_payment_next_month'].value_counts()"
   ]
  },
  {
   "cell_type": "code",
   "execution_count": 9,
   "id": "49f0f14b",
   "metadata": {},
   "outputs": [
    {
     "name": "stdout",
     "output_type": "stream",
     "text": [
      "<class 'pandas.core.frame.DataFrame'>\n",
      "Int64Index: 30000 entries, 1 to 30000\n",
      "Data columns (total 24 columns):\n",
      " #   Column                      Non-Null Count  Dtype\n",
      "---  ------                      --------------  -----\n",
      " 0   LIMIT_BAL                   30000 non-null  int64\n",
      " 1   SEX                         30000 non-null  int64\n",
      " 2   EDUCATION                   30000 non-null  int64\n",
      " 3   MARRIAGE                    30000 non-null  int64\n",
      " 4   AGE                         30000 non-null  int64\n",
      " 5   PAY_0                       30000 non-null  int64\n",
      " 6   PAY_2                       30000 non-null  int64\n",
      " 7   PAY_3                       30000 non-null  int64\n",
      " 8   PAY_4                       30000 non-null  int64\n",
      " 9   PAY_5                       30000 non-null  int64\n",
      " 10  PAY_6                       30000 non-null  int64\n",
      " 11  BILL_AMT1                   30000 non-null  int64\n",
      " 12  BILL_AMT2                   30000 non-null  int64\n",
      " 13  BILL_AMT3                   30000 non-null  int64\n",
      " 14  BILL_AMT4                   30000 non-null  int64\n",
      " 15  BILL_AMT5                   30000 non-null  int64\n",
      " 16  BILL_AMT6                   30000 non-null  int64\n",
      " 17  PAY_AMT1                    30000 non-null  int64\n",
      " 18  PAY_AMT2                    30000 non-null  int64\n",
      " 19  PAY_AMT3                    30000 non-null  int64\n",
      " 20  PAY_AMT4                    30000 non-null  int64\n",
      " 21  PAY_AMT5                    30000 non-null  int64\n",
      " 22  PAY_AMT6                    30000 non-null  int64\n",
      " 23  default_payment_next_month  30000 non-null  int64\n",
      "dtypes: int64(24)\n",
      "memory usage: 5.7 MB\n"
     ]
    }
   ],
   "source": [
    "# default_credit_df information\n",
    "default_credit_df.info()"
   ]
  },
  {
   "cell_type": "code",
   "execution_count": 10,
   "id": "fbacf81e",
   "metadata": {},
   "outputs": [
    {
     "data": {
      "text/html": [
       "<div>\n",
       "<style scoped>\n",
       "    .dataframe tbody tr th:only-of-type {\n",
       "        vertical-align: middle;\n",
       "    }\n",
       "\n",
       "    .dataframe tbody tr th {\n",
       "        vertical-align: top;\n",
       "    }\n",
       "\n",
       "    .dataframe thead th {\n",
       "        text-align: right;\n",
       "    }\n",
       "</style>\n",
       "<table border=\"1\" class=\"dataframe\">\n",
       "  <thead>\n",
       "    <tr style=\"text-align: right;\">\n",
       "      <th></th>\n",
       "      <th>LIMIT_BAL</th>\n",
       "      <th>SEX</th>\n",
       "      <th>EDUCATION</th>\n",
       "      <th>MARRIAGE</th>\n",
       "      <th>AGE</th>\n",
       "      <th>PAY_0</th>\n",
       "      <th>PAY_2</th>\n",
       "      <th>PAY_3</th>\n",
       "      <th>PAY_4</th>\n",
       "      <th>PAY_5</th>\n",
       "      <th>...</th>\n",
       "      <th>BILL_AMT4</th>\n",
       "      <th>BILL_AMT5</th>\n",
       "      <th>BILL_AMT6</th>\n",
       "      <th>PAY_AMT1</th>\n",
       "      <th>PAY_AMT2</th>\n",
       "      <th>PAY_AMT3</th>\n",
       "      <th>PAY_AMT4</th>\n",
       "      <th>PAY_AMT5</th>\n",
       "      <th>PAY_AMT6</th>\n",
       "      <th>default_payment_next_month</th>\n",
       "    </tr>\n",
       "  </thead>\n",
       "  <tbody>\n",
       "    <tr>\n",
       "      <th>count</th>\n",
       "      <td>30000.000000</td>\n",
       "      <td>30000.000000</td>\n",
       "      <td>30000.000000</td>\n",
       "      <td>30000.000000</td>\n",
       "      <td>30000.000000</td>\n",
       "      <td>30000.000000</td>\n",
       "      <td>30000.000000</td>\n",
       "      <td>30000.000000</td>\n",
       "      <td>30000.000000</td>\n",
       "      <td>30000.000000</td>\n",
       "      <td>...</td>\n",
       "      <td>30000.000000</td>\n",
       "      <td>30000.000000</td>\n",
       "      <td>30000.000000</td>\n",
       "      <td>30000.000000</td>\n",
       "      <td>3.000000e+04</td>\n",
       "      <td>30000.00000</td>\n",
       "      <td>30000.000000</td>\n",
       "      <td>30000.000000</td>\n",
       "      <td>30000.000000</td>\n",
       "      <td>30000.000000</td>\n",
       "    </tr>\n",
       "    <tr>\n",
       "      <th>mean</th>\n",
       "      <td>167484.322667</td>\n",
       "      <td>1.603733</td>\n",
       "      <td>1.853133</td>\n",
       "      <td>1.551867</td>\n",
       "      <td>35.485500</td>\n",
       "      <td>-0.016700</td>\n",
       "      <td>-0.133767</td>\n",
       "      <td>-0.166200</td>\n",
       "      <td>-0.220667</td>\n",
       "      <td>-0.266200</td>\n",
       "      <td>...</td>\n",
       "      <td>43262.948967</td>\n",
       "      <td>40311.400967</td>\n",
       "      <td>38871.760400</td>\n",
       "      <td>5663.580500</td>\n",
       "      <td>5.921163e+03</td>\n",
       "      <td>5225.68150</td>\n",
       "      <td>4826.076867</td>\n",
       "      <td>4799.387633</td>\n",
       "      <td>5215.502567</td>\n",
       "      <td>0.221200</td>\n",
       "    </tr>\n",
       "    <tr>\n",
       "      <th>std</th>\n",
       "      <td>129747.661567</td>\n",
       "      <td>0.489129</td>\n",
       "      <td>0.790349</td>\n",
       "      <td>0.521970</td>\n",
       "      <td>9.217904</td>\n",
       "      <td>1.123802</td>\n",
       "      <td>1.197186</td>\n",
       "      <td>1.196868</td>\n",
       "      <td>1.169139</td>\n",
       "      <td>1.133187</td>\n",
       "      <td>...</td>\n",
       "      <td>64332.856134</td>\n",
       "      <td>60797.155770</td>\n",
       "      <td>59554.107537</td>\n",
       "      <td>16563.280354</td>\n",
       "      <td>2.304087e+04</td>\n",
       "      <td>17606.96147</td>\n",
       "      <td>15666.159744</td>\n",
       "      <td>15278.305679</td>\n",
       "      <td>17777.465775</td>\n",
       "      <td>0.415062</td>\n",
       "    </tr>\n",
       "    <tr>\n",
       "      <th>min</th>\n",
       "      <td>10000.000000</td>\n",
       "      <td>1.000000</td>\n",
       "      <td>0.000000</td>\n",
       "      <td>0.000000</td>\n",
       "      <td>21.000000</td>\n",
       "      <td>-2.000000</td>\n",
       "      <td>-2.000000</td>\n",
       "      <td>-2.000000</td>\n",
       "      <td>-2.000000</td>\n",
       "      <td>-2.000000</td>\n",
       "      <td>...</td>\n",
       "      <td>-170000.000000</td>\n",
       "      <td>-81334.000000</td>\n",
       "      <td>-339603.000000</td>\n",
       "      <td>0.000000</td>\n",
       "      <td>0.000000e+00</td>\n",
       "      <td>0.00000</td>\n",
       "      <td>0.000000</td>\n",
       "      <td>0.000000</td>\n",
       "      <td>0.000000</td>\n",
       "      <td>0.000000</td>\n",
       "    </tr>\n",
       "    <tr>\n",
       "      <th>25%</th>\n",
       "      <td>50000.000000</td>\n",
       "      <td>1.000000</td>\n",
       "      <td>1.000000</td>\n",
       "      <td>1.000000</td>\n",
       "      <td>28.000000</td>\n",
       "      <td>-1.000000</td>\n",
       "      <td>-1.000000</td>\n",
       "      <td>-1.000000</td>\n",
       "      <td>-1.000000</td>\n",
       "      <td>-1.000000</td>\n",
       "      <td>...</td>\n",
       "      <td>2326.750000</td>\n",
       "      <td>1763.000000</td>\n",
       "      <td>1256.000000</td>\n",
       "      <td>1000.000000</td>\n",
       "      <td>8.330000e+02</td>\n",
       "      <td>390.00000</td>\n",
       "      <td>296.000000</td>\n",
       "      <td>252.500000</td>\n",
       "      <td>117.750000</td>\n",
       "      <td>0.000000</td>\n",
       "    </tr>\n",
       "    <tr>\n",
       "      <th>50%</th>\n",
       "      <td>140000.000000</td>\n",
       "      <td>2.000000</td>\n",
       "      <td>2.000000</td>\n",
       "      <td>2.000000</td>\n",
       "      <td>34.000000</td>\n",
       "      <td>0.000000</td>\n",
       "      <td>0.000000</td>\n",
       "      <td>0.000000</td>\n",
       "      <td>0.000000</td>\n",
       "      <td>0.000000</td>\n",
       "      <td>...</td>\n",
       "      <td>19052.000000</td>\n",
       "      <td>18104.500000</td>\n",
       "      <td>17071.000000</td>\n",
       "      <td>2100.000000</td>\n",
       "      <td>2.009000e+03</td>\n",
       "      <td>1800.00000</td>\n",
       "      <td>1500.000000</td>\n",
       "      <td>1500.000000</td>\n",
       "      <td>1500.000000</td>\n",
       "      <td>0.000000</td>\n",
       "    </tr>\n",
       "    <tr>\n",
       "      <th>75%</th>\n",
       "      <td>240000.000000</td>\n",
       "      <td>2.000000</td>\n",
       "      <td>2.000000</td>\n",
       "      <td>2.000000</td>\n",
       "      <td>41.000000</td>\n",
       "      <td>0.000000</td>\n",
       "      <td>0.000000</td>\n",
       "      <td>0.000000</td>\n",
       "      <td>0.000000</td>\n",
       "      <td>0.000000</td>\n",
       "      <td>...</td>\n",
       "      <td>54506.000000</td>\n",
       "      <td>50190.500000</td>\n",
       "      <td>49198.250000</td>\n",
       "      <td>5006.000000</td>\n",
       "      <td>5.000000e+03</td>\n",
       "      <td>4505.00000</td>\n",
       "      <td>4013.250000</td>\n",
       "      <td>4031.500000</td>\n",
       "      <td>4000.000000</td>\n",
       "      <td>0.000000</td>\n",
       "    </tr>\n",
       "    <tr>\n",
       "      <th>max</th>\n",
       "      <td>1000000.000000</td>\n",
       "      <td>2.000000</td>\n",
       "      <td>6.000000</td>\n",
       "      <td>3.000000</td>\n",
       "      <td>79.000000</td>\n",
       "      <td>8.000000</td>\n",
       "      <td>8.000000</td>\n",
       "      <td>8.000000</td>\n",
       "      <td>8.000000</td>\n",
       "      <td>8.000000</td>\n",
       "      <td>...</td>\n",
       "      <td>891586.000000</td>\n",
       "      <td>927171.000000</td>\n",
       "      <td>961664.000000</td>\n",
       "      <td>873552.000000</td>\n",
       "      <td>1.684259e+06</td>\n",
       "      <td>896040.00000</td>\n",
       "      <td>621000.000000</td>\n",
       "      <td>426529.000000</td>\n",
       "      <td>528666.000000</td>\n",
       "      <td>1.000000</td>\n",
       "    </tr>\n",
       "  </tbody>\n",
       "</table>\n",
       "<p>8 rows × 24 columns</p>\n",
       "</div>"
      ],
      "text/plain": [
       "            LIMIT_BAL           SEX     EDUCATION      MARRIAGE           AGE  \\\n",
       "count    30000.000000  30000.000000  30000.000000  30000.000000  30000.000000   \n",
       "mean    167484.322667      1.603733      1.853133      1.551867     35.485500   \n",
       "std     129747.661567      0.489129      0.790349      0.521970      9.217904   \n",
       "min      10000.000000      1.000000      0.000000      0.000000     21.000000   \n",
       "25%      50000.000000      1.000000      1.000000      1.000000     28.000000   \n",
       "50%     140000.000000      2.000000      2.000000      2.000000     34.000000   \n",
       "75%     240000.000000      2.000000      2.000000      2.000000     41.000000   \n",
       "max    1000000.000000      2.000000      6.000000      3.000000     79.000000   \n",
       "\n",
       "              PAY_0         PAY_2         PAY_3         PAY_4         PAY_5  \\\n",
       "count  30000.000000  30000.000000  30000.000000  30000.000000  30000.000000   \n",
       "mean      -0.016700     -0.133767     -0.166200     -0.220667     -0.266200   \n",
       "std        1.123802      1.197186      1.196868      1.169139      1.133187   \n",
       "min       -2.000000     -2.000000     -2.000000     -2.000000     -2.000000   \n",
       "25%       -1.000000     -1.000000     -1.000000     -1.000000     -1.000000   \n",
       "50%        0.000000      0.000000      0.000000      0.000000      0.000000   \n",
       "75%        0.000000      0.000000      0.000000      0.000000      0.000000   \n",
       "max        8.000000      8.000000      8.000000      8.000000      8.000000   \n",
       "\n",
       "       ...      BILL_AMT4      BILL_AMT5      BILL_AMT6       PAY_AMT1  \\\n",
       "count  ...   30000.000000   30000.000000   30000.000000   30000.000000   \n",
       "mean   ...   43262.948967   40311.400967   38871.760400    5663.580500   \n",
       "std    ...   64332.856134   60797.155770   59554.107537   16563.280354   \n",
       "min    ... -170000.000000  -81334.000000 -339603.000000       0.000000   \n",
       "25%    ...    2326.750000    1763.000000    1256.000000    1000.000000   \n",
       "50%    ...   19052.000000   18104.500000   17071.000000    2100.000000   \n",
       "75%    ...   54506.000000   50190.500000   49198.250000    5006.000000   \n",
       "max    ...  891586.000000  927171.000000  961664.000000  873552.000000   \n",
       "\n",
       "           PAY_AMT2      PAY_AMT3       PAY_AMT4       PAY_AMT5  \\\n",
       "count  3.000000e+04   30000.00000   30000.000000   30000.000000   \n",
       "mean   5.921163e+03    5225.68150    4826.076867    4799.387633   \n",
       "std    2.304087e+04   17606.96147   15666.159744   15278.305679   \n",
       "min    0.000000e+00       0.00000       0.000000       0.000000   \n",
       "25%    8.330000e+02     390.00000     296.000000     252.500000   \n",
       "50%    2.009000e+03    1800.00000    1500.000000    1500.000000   \n",
       "75%    5.000000e+03    4505.00000    4013.250000    4031.500000   \n",
       "max    1.684259e+06  896040.00000  621000.000000  426529.000000   \n",
       "\n",
       "            PAY_AMT6  default_payment_next_month  \n",
       "count   30000.000000                30000.000000  \n",
       "mean     5215.502567                    0.221200  \n",
       "std     17777.465775                    0.415062  \n",
       "min         0.000000                    0.000000  \n",
       "25%       117.750000                    0.000000  \n",
       "50%      1500.000000                    0.000000  \n",
       "75%      4000.000000                    0.000000  \n",
       "max    528666.000000                    1.000000  \n",
       "\n",
       "[8 rows x 24 columns]"
      ]
     },
     "execution_count": 10,
     "metadata": {},
     "output_type": "execute_result"
    }
   ],
   "source": [
    "# default_credit_df column summary\n",
    "default_credit_df.describe()"
   ]
  },
  {
   "cell_type": "markdown",
   "id": "fede9ec6",
   "metadata": {},
   "source": []
  },
  {
   "cell_type": "markdown",
   "id": "c77a4a47-0e27-4d77-a29c-e5e70a72a22f",
   "metadata": {},
   "source": [
    "## Partition the data set into training and test sets"
   ]
  },
  {
   "cell_type": "markdown",
   "id": "7d753fbc-b7b4-4eef-a102-716468dd554c",
   "metadata": {},
   "source": [
    "Before proceeding further, we will split our data set into train and test set. $20$ % of the observations will be included in the test data and $80$ % in the train data set. Overall `default_of_credit_card_clients` has $30,000$ observations, thus the test set should have enough examples to provide good affirmation for the model: more precisely, the train set will have $24000$ observations, and test set $6000$.\n",
    "\n",
    "Also, throughout the data analysis `random_state=123` will be used to make sure the results are consistent.\n",
    "\n",
    "Worthy to note that no EDA will be performed on test data set, as test set is going to serve for the generalization of the model (unseen data for our model)."
   ]
  },
  {
   "cell_type": "code",
   "execution_count": 3,
   "id": "fa0bc7df-7fbc-4227-96b2-da39ec7f9a17",
   "metadata": {},
   "outputs": [],
   "source": [
    "# splitting the dataset into train and test sets\n",
    "train_df, test_df = train_test_split(default_credit_df, test_size=0.2, random_state=123)"
   ]
  },
  {
   "cell_type": "code",
   "execution_count": 4,
   "id": "e2c2faa3-1608-4b56-9e8d-d7adab4cbc99",
   "metadata": {},
   "outputs": [
    {
     "name": "stdout",
     "output_type": "stream",
     "text": [
      "The number of observations for train set:  24000\n",
      "The number of observations for test set:  6000\n"
     ]
    }
   ],
   "source": [
    "# printing the number of observations for train and test sets\n",
    "print('The number of observations for train set: ', train_df['default_payment_next_month'].shape[0])\n",
    "print('The number of observations for test set: ', test_df['default_payment_next_month'].shape[0])"
   ]
  },
  {
   "cell_type": "code",
   "execution_count": 5,
   "id": "5a8b707b-aa17-495e-8f07-8ecc15d84433",
   "metadata": {},
   "outputs": [],
   "source": [
    "# percentage of zeros and ones in default column train set\n",
    "train_percent_defaults = train_df['default_payment_next_month'].value_counts(normalize=True) * 100\n",
    "train_percent_defaults.name = 'Default Count Percent'\n",
    "\n",
    "# count of observations were default is one or zero in train set \n",
    "train_yes_default = len(train_df[train_df['default_payment_next_month'] == 1])\n",
    "train_no_default = len(train_df[train_df['default_payment_next_month'] == 0])"
   ]
  },
  {
   "cell_type": "code",
   "execution_count": 6,
   "id": "1eb43771-bf27-43e0-b6fc-4671de6385f6",
   "metadata": {},
   "outputs": [
    {
     "data": {
      "text/html": [
       "<div>\n",
       "<style scoped>\n",
       "    .dataframe tbody tr th:only-of-type {\n",
       "        vertical-align: middle;\n",
       "    }\n",
       "\n",
       "    .dataframe tbody tr th {\n",
       "        vertical-align: top;\n",
       "    }\n",
       "\n",
       "    .dataframe thead th {\n",
       "        text-align: right;\n",
       "    }\n",
       "</style>\n",
       "<table border=\"1\" class=\"dataframe\">\n",
       "  <thead>\n",
       "    <tr style=\"text-align: right;\">\n",
       "      <th></th>\n",
       "      <th>Default Count Percent</th>\n",
       "      <th>Count</th>\n",
       "    </tr>\n",
       "  </thead>\n",
       "  <tbody>\n",
       "    <tr>\n",
       "      <th>No (0)</th>\n",
       "      <td>77.783333</td>\n",
       "      <td>18668</td>\n",
       "    </tr>\n",
       "    <tr>\n",
       "      <th>Yes (1)</th>\n",
       "      <td>22.216667</td>\n",
       "      <td>5332</td>\n",
       "    </tr>\n",
       "  </tbody>\n",
       "</table>\n",
       "</div>"
      ],
      "text/plain": [
       "         Default Count Percent  Count\n",
       "No (0)               77.783333  18668\n",
       "Yes (1)              22.216667   5332"
      ]
     },
     "execution_count": 6,
     "metadata": {},
     "output_type": "execute_result"
    }
   ],
   "source": [
    "# convert to a dataframe and make column names readable\n",
    "default_percent_df = pd.DataFrame(train_percent_defaults)\n",
    "default_percent_df = default_percent_df.rename(index = {0: 'No (0)', 1: 'Yes (1)'})\n",
    "\n",
    "# make a dictionary of classes count values \n",
    "count_dic_no = {\"Count\": train_no_default \n",
    "               }\n",
    "\n",
    "count_dic_yes = {\"Count\": train_yes_default\n",
    "                }\n",
    "\n",
    "# make a list from classes default payment counts \n",
    "list_default = [count_dic_no, count_dic_yes]\n",
    "\n",
    "# convert to a dataframe\n",
    "default_count = pd.DataFrame(list_default, index = ['No (0)', 'Yes (1)'])\n",
    "\n",
    "# join two dataframes\n",
    "df_default = default_percent_df.join(default_count)\n",
    "df_default"
   ]
  },
  {
   "cell_type": "markdown",
   "id": "8d164561-c516-4807-92b7-9323bbd75b29",
   "metadata": {},
   "source": [
    "The count, as well as percentage of overall distribution of classes indicates that there is an imbalance between `No (0)` and `Yes (1)` classes. It is certainly something we have to take into account for later on analysis, however the difference does not seem to be significant enough to start our analysis with over or under sampling assumption. Thus, we will start our analysis without any assumption, and if the confusion matrix or any other indicators during tuning will show that the model makes a lot more mistakes on class `1` (minority class), we will accordingly adjust the model to get the best results."
   ]
  },
  {
   "cell_type": "markdown",
   "id": "5c09b9fa-4fda-4af2-95ed-e33e848d2f41",
   "metadata": {},
   "source": [
    "## Exploratory analysis on the training data set"
   ]
  }
 ],
 "metadata": {
  "interpreter": {
   "hash": "5740260e209e552efc13becddf7780650971b9c6fe78379f41899e27cf7c342c"
  },
  "kernelspec": {
   "display_name": "Python [conda env:573]",
   "language": "python",
   "name": "python3"
  },
  "language_info": {
   "codemirror_mode": {
    "name": "ipython",
    "version": 3
   },
   "file_extension": ".py",
   "mimetype": "text/x-python",
   "name": "python",
   "nbconvert_exporter": "python",
   "pygments_lexer": "ipython3",
   "version": "3.9.7"
  }
 },
 "nbformat": 4,
 "nbformat_minor": 5
}
