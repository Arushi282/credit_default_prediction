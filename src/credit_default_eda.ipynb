{
 "cells": [
  {
   "cell_type": "markdown",
   "id": "766642a0-60e3-457f-a72a-d369de377a2c",
   "metadata": {},
   "source": [
    "# Exploratory Data Analysis for the Taiwan Default Credit data set "
   ]
  },
  {
   "cell_type": "markdown",
   "id": "165c40aa-687b-4967-83de-dd16559f6ab7",
   "metadata": {},
   "source": [
    "## Imports "
   ]
  },
  {
   "cell_type": "code",
   "execution_count": 24,
   "id": "c79ad1ee-bd31-48e6-9911-3ac283324494",
   "metadata": {},
   "outputs": [],
   "source": [
    "import numpy as np\n",
    "import pandas as pd\n",
    "from sklearn.model_selection import train_test_split"
   ]
  },
  {
   "cell_type": "markdown",
   "id": "c25969f0-05bb-4d46-9257-54bf1bc8ed95",
   "metadata": {},
   "source": [
    "## Reading the data "
   ]
  },
  {
   "cell_type": "code",
   "execution_count": 25,
   "id": "f49064da-4f55-4c50-82c6-902328836570",
   "metadata": {},
   "outputs": [],
   "source": [
    "default_credit_df = pd.read_csv('../data/raw/credit_card_default.csv')"
   ]
  },
  {
   "cell_type": "markdown",
   "id": "ba1c838f-75bd-4d48-ab17-6e3ae8c16364",
   "metadata": {},
   "source": [
    "-----"
   ]
  },
  {
   "cell_type": "markdown",
   "id": "06916fea-8a59-48a6-9284-9e520ea9c37f",
   "metadata": {},
   "source": [
    "## Summary of the data set"
   ]
  },
  {
   "cell_type": "markdown",
   "id": "fbc8bb3c-89ca-4b49-9391-18a2762075ce",
   "metadata": {},
   "source": []
  },
  {
   "cell_type": "markdown",
   "id": "c77a4a47-0e27-4d77-a29c-e5e70a72a22f",
   "metadata": {},
   "source": [
    "## Partition the data set into training and test sets"
   ]
  },
  {
   "cell_type": "markdown",
   "id": "7d753fbc-b7b4-4eef-a102-716468dd554c",
   "metadata": {},
   "source": [
    "Before proceeding further, we will split our data set into train and test set. 20 percent of the observations will be included in the test data and 80 percent in the train data set. The `default_of_credit_card_clients` has around "
   ]
  },
  {
   "cell_type": "code",
   "execution_count": 26,
   "id": "fa0bc7df-7fbc-4227-96b2-da39ec7f9a17",
   "metadata": {},
   "outputs": [],
   "source": [
    "train_df, test_df = train_test_split(default_credit_df, test_size=0.2, random_state=123)"
   ]
  },
  {
   "cell_type": "markdown",
   "id": "5c09b9fa-4fda-4af2-95ed-e33e848d2f41",
   "metadata": {},
   "source": [
    "## Exploratory analysis on the training data set"
   ]
  }
 ],
 "metadata": {
  "kernelspec": {
   "display_name": "Python [conda env:573]",
   "language": "python",
   "name": "conda-env-573-py"
  },
  "language_info": {
   "codemirror_mode": {
    "name": "ipython",
    "version": 3
   },
   "file_extension": ".py",
   "mimetype": "text/x-python",
   "name": "python",
   "nbconvert_exporter": "python",
   "pygments_lexer": "ipython3",
   "version": "3.9.7"
  }
 },
 "nbformat": 4,
 "nbformat_minor": 5
}
